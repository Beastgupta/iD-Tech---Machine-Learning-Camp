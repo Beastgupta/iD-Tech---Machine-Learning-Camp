{
 "cells": [
  {
   "cell_type": "code",
   "execution_count": 1,
   "metadata": {},
   "outputs": [
    {
     "name": "stdout",
     "output_type": "stream",
     "text": [
      "Hello World\n"
     ]
    }
   ],
   "source": [
    "print(\"Hello World\")"
   ]
  },
  {
   "cell_type": "code",
   "execution_count": 2,
   "metadata": {},
   "outputs": [
    {
     "name": "stdout",
     "output_type": "stream",
     "text": [
      "Fetus Deletus\n"
     ]
    }
   ],
   "source": [
    "print(\"Fetus Deletus\")"
   ]
  },
  {
   "cell_type": "markdown",
   "metadata": {},
   "source": [
    "\"Hello World\""
   ]
  },
  {
   "cell_type": "code",
   "execution_count": 4,
   "metadata": {},
   "outputs": [
    {
     "name": "stdout",
     "output_type": "stream",
     "text": [
      "The player has zero life.\n",
      "0\n"
     ]
    }
   ],
   "source": [
    "life = 3\n",
    "\n",
    "if life > 0:\n",
    "    life -= 1\n",
    "if life > 0:\n",
    "    life -= 1\n",
    "if life > 0:\n",
    "    life -= 1\n",
    "if life > 0:\n",
    "    life -= 1\n",
    "elif life == 0:\n",
    "    print(\"The player has zero life.\")\n",
    "else:\n",
    "    print(\"The player ran out of life.\")\n",
    "\n",
    "print(life)"
   ]
  },
  {
   "cell_type": "code",
   "execution_count": 5,
   "metadata": {},
   "outputs": [
    {
     "name": "stdout",
     "output_type": "stream",
     "text": [
      "You can attend iD Tech Camps!\n"
     ]
    }
   ],
   "source": [
    "player_age = 12\n",
    "\n",
    "if player_age >= 18:\n",
    "    print(\"You could be in college\")\n",
    "elif player_age >= 13 and player_age < 18:\n",
    "    print(\"You can also attend iD Academies!\")\n",
    "elif player_age >= 7 and player_age < 13:\n",
    "    print(\"You can attend iD Tech Camps!\")\n",
    "else:\n",
    "    print(\"You're young.\")"
   ]
  },
  {
   "cell_type": "code",
   "execution_count": 6,
   "metadata": {},
   "outputs": [
    {
     "name": "stdout",
     "output_type": "stream",
     "text": [
      "You haven't beaten the game yet.\n"
     ]
    }
   ],
   "source": [
    "player_has_item = False\n",
    "score = 50\n",
    "won = False\n",
    "\n",
    "if player_has_item and score > 100:\n",
    "    won = True\n",
    "\n",
    "if not won:\n",
    "    print(\"You haven't beaten the game yet.\")\n",
    "elif won:\n",
    "    print(\"You won the game!\")"
   ]
  },
  {
   "cell_type": "code",
   "execution_count": 7,
   "metadata": {},
   "outputs": [
    {
     "name": "stdout",
     "output_type": "stream",
     "text": [
      "You haven't beaten the game yet.\n"
     ]
    }
   ],
   "source": [
    "player_has_item = False\n",
    "score = 100\n",
    "won = False\n",
    "\n",
    "if player_has_item or score > 200:\n",
    "    won = True\n",
    "\n",
    "if not won:\n",
    "    print(\"You haven't beaten the game yet.\")\n",
    "elif won:\n",
    "    print(\"You won the game!\")"
   ]
  },
  {
   "cell_type": "code",
   "execution_count": 8,
   "metadata": {},
   "outputs": [
    {
     "name": "stdout",
     "output_type": "stream",
     "text": [
      "42\n"
     ]
    }
   ],
   "source": [
    "import random\n",
    "\n",
    "computer_number = random.randrange(0, 101)\n",
    "print(computer_number)\n",
    "\n",
    "guessed = False\n",
    "\n",
    "while True:\n",
    "    if guessed:\n",
    "        answer = input(\"Guess the number \")\n",
    "        if int(answer) == computer_number:\n",
    "            guessed = True\n",
    "            print(\"You got it!\")\n",
    "            break\n",
    "        elif int(answer) > computer_number:\n",
    "            print(\"Your guess is too high.\")\n",
    "        else:\n",
    "            print(\"Your guess is too low.\")\n",
    "\n",
    "    else:\n",
    "        break"
   ]
  },
  {
   "cell_type": "code",
   "execution_count": 9,
   "metadata": {},
   "outputs": [
    {
     "name": "stdout",
     "output_type": "stream",
     "text": [
      "Pick a number7\n",
      "Pick a number14\n",
      "You win!\n"
     ]
    }
   ],
   "source": [
    "\n",
    "guessed = False\n",
    "\n",
    "while not guessed:\n",
    "    guess = input(\"Pick a number\")\n",
    "    if int(guess) == 14:\n",
    "        guessed = True\n",
    "\n",
    "print(\"You win!\")"
   ]
  },
  {
   "cell_type": "code",
   "execution_count": 10,
   "metadata": {},
   "outputs": [
    {
     "ename": "SyntaxError",
     "evalue": "EOL while scanning string literal (<ipython-input-10-1a6048f6ad0b>, line 7)",
     "output_type": "error",
     "traceback": [
      "\u001b[0;36m  File \u001b[0;32m\"<ipython-input-10-1a6048f6ad0b>\"\u001b[0;36m, line \u001b[0;32m7\u001b[0m\n\u001b[0;31m    print(\"All the leaves fell. For loop complete\u001b[0m\n\u001b[0m                                                 ^\u001b[0m\n\u001b[0;31mSyntaxError\u001b[0m\u001b[0;31m:\u001b[0m EOL while scanning string literal\n"
     ]
    }
   ],
   "source": [
    "number_of_leaves = 14\n",
    "\n",
    "for x in range(0, number_of_leaves):\n",
    "    print(\"A leaf fell to the ground \" +\n",
    "    str(x) + \" leaves have fallen.\")\n",
    "\n",
    "print(\"All the leaves fell. For loop complete"
   ]
  },
  {
   "cell_type": "code",
   "execution_count": 11,
   "metadata": {},
   "outputs": [
    {
     "name": "stdout",
     "output_type": "stream",
     "text": [
      "Rolling the Dice!\n",
      "3\n"
     ]
    }
   ],
   "source": [
    "import random\n",
    "\n",
    "print (\"Rolling the Dice!\")\n",
    "\n",
    "print (random.randint(1, 12))"
   ]
  },
  {
   "cell_type": "code",
   "execution_count": 12,
   "metadata": {},
   "outputs": [
    {
     "name": "stdout",
     "output_type": "stream",
     "text": [
      "0\n"
     ]
    }
   ],
   "source": [
    "import random\n",
    "\n",
    "def random_number(max_int):\n",
    "    rand = random.randrange(0, max_int)\n",
    "    return rand\n",
    "\n",
    "a_number = random_number(5)\n",
    "print(a_number)"
   ]
  },
  {
   "cell_type": "code",
   "execution_count": 25,
   "metadata": {},
   "outputs": [
    {
     "name": "stdout",
     "output_type": "stream",
     "text": [
      "Health is 4\n"
     ]
    }
   ],
   "source": [
    "import random\n",
    "\n",
    "health = 10\n",
    "\n",
    "def hit_the_player():\n",
    "    global health\n",
    "    roll_the_dice = random.randrange(1, 7)\n",
    "    health -= roll_the_dice\n",
    "    \n",
    "hit_the_player()\n",
    "print(\"Health is \" + str(health))"
   ]
  },
  {
   "cell_type": "code",
   "execution_count": 31,
   "metadata": {},
   "outputs": [
    {
     "name": "stdout",
     "output_type": "stream",
     "text": [
      "Miles\n",
      "Your pet Fido seemed to be happy to play fetch!\n",
      "Woof woof woof\n"
     ]
    }
   ],
   "source": [
    "class MyPet:\n",
    "    \n",
    "    def __init__(self, pet_name):\n",
    "        self.name = pet_name\n",
    "        \n",
    "    def play_fetch(self):\n",
    "            print(\"Your pet \" + self.name + \" seemed to be happy to play fetch!\")\n",
    "        \n",
    "orange_cat = MyPet(\"Miles\")\n",
    "small_dog = MyPet(\"Fido\")\n",
    "\n",
    "print(orange_cat.name)\n",
    "small_dog.play_fetch()\n",
    "\n",
    "class MyDog(MyPet):\n",
    "\n",
    "    def bark(self):\n",
    "        print(\"Woof woof woof\")\n",
    "\n",
    "my_dog = MyDog(\"Spike\")\n",
    "my_dog.bark()"
   ]
  },
  {
   "cell_type": "code",
   "execution_count": 32,
   "metadata": {},
   "outputs": [
    {
     "name": "stdout",
     "output_type": "stream",
     "text": [
      "Yip yip yip\n",
      "Woof woof woof\n"
     ]
    }
   ],
   "source": [
    "class MyDog(MyPet):\n",
    "\n",
    "    def __init__(self, name, volume):\n",
    "        self.name = name\n",
    "        self.volume = volume\n",
    "\n",
    "    def bark(self):\n",
    "        if self.volume > 3:\n",
    "            print(\"Woof woof woof\")\n",
    "        elif self.volume < 3:\n",
    "            print(\"Yip yip yip\")\n",
    "\n",
    "small_dog = MyDog(\"Pup\", 2)\n",
    "big_dog = MyDog(\"Coco\", 5)\n",
    "\n",
    "small_dog.bark()\n",
    "big_dog.bark()"
   ]
  },
  {
   "cell_type": "code",
   "execution_count": 33,
   "metadata": {},
   "outputs": [],
   "source": [
    "import numpy as np"
   ]
  },
  {
   "cell_type": "code",
   "execution_count": null,
   "metadata": {},
   "outputs": [],
   "source": []
  }
 ],
 "metadata": {
  "kernelspec": {
   "display_name": "Python 3",
   "language": "python",
   "name": "python3"
  },
  "language_info": {
   "codemirror_mode": {
    "name": "ipython",
    "version": 3
   },
   "file_extension": ".py",
   "mimetype": "text/x-python",
   "name": "python",
   "nbconvert_exporter": "python",
   "pygments_lexer": "ipython3",
   "version": "3.7.1"
  }
 },
 "nbformat": 4,
 "nbformat_minor": 2
}
